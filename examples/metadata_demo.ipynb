{
 "cells": [
  {
   "cell_type": "markdown",
   "metadata": {},
   "source": [
    "# Model Metadata API Demo"
   ]
  },
  {
   "cell_type": "markdown",
   "metadata": {},
   "source": [
    "The Model Metadata API is still in developement. This demo showcases some of the functionality of the new API."
   ]
  },
  {
   "cell_type": "markdown",
   "metadata": {},
   "source": [
    "## Api Configuration"
   ]
  },
  {
   "cell_type": "code",
   "execution_count": 1,
   "metadata": {},
   "outputs": [],
   "source": [
    "from seldon_deploy_sdk.rest import ApiException\n",
    "\n",
    "from seldon_deploy_sdk import V1Model, ModelMetadataServiceApi, Configuration, ApiClient\n",
    "from seldon_deploy_sdk.auth import OIDCAuthenticator"
   ]
  },
  {
   "cell_type": "code",
   "execution_count": 2,
   "metadata": {},
   "outputs": [],
   "source": [
    "from pprint import pprint\n",
    "import json"
   ]
  },
  {
   "cell_type": "code",
   "execution_count": 3,
   "metadata": {},
   "outputs": [],
   "source": [
    "config = Configuration()\n",
    "config.host = \"http://localhost:8080\""
   ]
  },
  {
   "cell_type": "code",
   "execution_count": 4,
   "metadata": {},
   "outputs": [],
   "source": [
    "# auth if needed\n",
    "# config.oidc_server = \"http://localhost:8080/auth/realms/deploy-realm\"\n",
    "# config.oidc_client_id = \"sd-cli\"\n",
    "\n",
    "# auth = OIDCAuthenticator(config)\n",
    "# config.access_token = auth.authenticate(\"admin@seldon.io\", \"12341234\")"
   ]
  },
  {
   "cell_type": "code",
   "execution_count": 5,
   "metadata": {},
   "outputs": [],
   "source": [
    "api_client = ApiClient(config)\n",
    "api_instance = ModelMetadataServiceApi(api_client)"
   ]
  },
  {
   "cell_type": "markdown",
   "metadata": {},
   "source": [
    "## Add single model to the Model Catalogue"
   ]
  },
  {
   "cell_type": "code",
   "execution_count": 6,
   "metadata": {},
   "outputs": [],
   "source": [
    "model = V1Model(\n",
    "    uri=\"gs://test-model-alpha-v1.0.0\",\n",
    "    name=\"alpha\",\n",
    "    version=\"v1.0.0\",\n",
    "    implementation=\"XGBOOST\",\n",
    "    task_type=\"regression\",\n",
    "    tags={\n",
    "        \"source\": \"https://github.com/some-test-model-alpha-repo\",\n",
    "        \"an arbitrary tag\": \"true\",\n",
    "    },\n",
    ")\n",
    "try:\n",
    "    # Create a Model Metadata entry.\n",
    "    api_response = api_instance.model_metadata_service_create_model_metadata(model)\n",
    "except ApiException as e:\n",
    "    print(f\"Couldn't create model: {json.loads(e.body)['message']}\")"
   ]
  },
  {
   "cell_type": "markdown",
   "metadata": {},
   "source": [
    "## Add multiple models to the Model Catalogue"
   ]
  },
  {
   "cell_type": "code",
   "execution_count": 7,
   "metadata": {},
   "outputs": [],
   "source": [
    "models = [\n",
    "    #     Same model different versions\n",
    "    {\n",
    "        \"uri\": \"gs://test-model-beta-v1.0.0\",\n",
    "        \"name\": \"beta\",\n",
    "        \"version\": \"v1.0.0\",\n",
    "        \"implementation\": \"SKLEARN\",\n",
    "        \"task_type\": \"classification\",\n",
    "        \"tags\": {\"author\": \"Jon\"},\n",
    "    },\n",
    "    {\n",
    "        \"uri\": \"gs://test-model-beta-v2.0.0\",\n",
    "        \"name\": \"beta\",\n",
    "        \"version\": \"v2.0.0\",\n",
    "        \"implementation\": \"SKLEARN\",\n",
    "        \"task_type\": \"classification\",\n",
    "        \"tags\": {\"author\": \"Bob\"},\n",
    "    },\n",
    "    {\n",
    "        \"uri\": \"gs://test-model-beta-v3.0.0\",\n",
    "        \"name\": \"beta\",\n",
    "        \"version\": \"v3.0.0\",\n",
    "        \"implementation\": \"SKLEARN\",\n",
    "        \"task_type\": \"classification\",\n",
    "        \"tags\": {\"author\": \"Bob\"},\n",
    "    },\n",
    "]\n",
    "\n",
    "for model in models:\n",
    "    body = V1Model(**model)\n",
    "    try:\n",
    "        api_response = api_instance.model_metadata_service_create_model_metadata(body)\n",
    "    except ApiException as e:\n",
    "        print(f\"Couldn't create model: {json.loads(e.body)['message']}\")"
   ]
  },
  {
   "cell_type": "markdown",
   "metadata": {},
   "source": [
    "## List all models in the Model Catalogue"
   ]
  },
  {
   "cell_type": "code",
   "execution_count": 8,
   "metadata": {},
   "outputs": [
    {
     "name": "stdout",
     "output_type": "stream",
     "text": [
      "{'models': [{'implementation': 'sklearn',\n",
      "             'name': 'kf-samples-iris',\n",
      "             'tags': {'author': 'Harry Potter', 'team': 'Gryffindor'},\n",
      "             'task_type': 'classification',\n",
      "             'uri': 'gs://kfserving-samples/models/sklearn/iris',\n",
      "             'version': 'v1.0.0'},\n",
      "            {'implementation': 'sklearn',\n",
      "             'name': 'seldon-models-iris',\n",
      "             'tags': {'author': 'Ron Weasley', 'team': 'Gryffindor'},\n",
      "             'task_type': 'classification',\n",
      "             'uri': 'gs://seldon-models/sklearn/iris',\n",
      "             'version': 'v1.0.0'},\n",
      "            {'implementation': 'sklearn',\n",
      "             'name': 'seldon-models-iris',\n",
      "             'tags': {'author': 'Ron Weasley', 'team': 'Gryffindor'},\n",
      "             'task_type': 'classification',\n",
      "             'uri': 'gs://seldon-models/sklearn/iris2',\n",
      "             'version': 'v2.0.0'},\n",
      "            {'implementation': 'sklearn',\n",
      "             'name': 'income',\n",
      "             'tags': {'author': 'Open Source',\n",
      "                      'external': 'true',\n",
      "                      'licence': 'MIT'},\n",
      "             'task_type': 'classification',\n",
      "             'uri': 'gs://seldon-models/sklearn/income/model-0.23.2',\n",
      "             'version': 'v0.23.2'},\n",
      "            {'implementation': 'sklearn',\n",
      "             'name': 'income',\n",
      "             'tags': {'author': 'Open Source',\n",
      "                      'external': 'true',\n",
      "                      'licence': 'MIT'},\n",
      "             'task_type': 'classification',\n",
      "             'uri': 'gs://seldon-models/sklearn/income/model-0.23.3',\n",
      "             'version': 'v0.23.3'},\n",
      "            {'implementation': 'sklearn',\n",
      "             'name': 'moviesentiment',\n",
      "             'tags': {'author': 'Jon Snow'},\n",
      "             'task_type': 'classification',\n",
      "             'uri': 'gs://seldon-models/sklearn/moviesentiment',\n",
      "             'version': 'v0.0.3'},\n",
      "            {'implementation': 'XGBOOST',\n",
      "             'name': 'alpha',\n",
      "             'tags': {'an arbitrary tag': 'true',\n",
      "                      'source': 'https://github.com/some-test-model-alpha-repo'},\n",
      "             'task_type': 'regression',\n",
      "             'uri': 'gs://test-model-alpha-v1.0.0',\n",
      "             'version': 'v1.0.0'},\n",
      "            {'implementation': 'SKLEARN',\n",
      "             'name': 'beta',\n",
      "             'tags': {'author': 'Jon'},\n",
      "             'task_type': 'classification',\n",
      "             'uri': 'gs://test-model-beta-v1.0.0',\n",
      "             'version': 'v1.0.0'},\n",
      "            {'implementation': 'SKLEARN',\n",
      "             'name': 'beta',\n",
      "             'tags': {'author': 'Bob'},\n",
      "             'task_type': 'classification',\n",
      "             'uri': 'gs://test-model-beta-v2.0.0',\n",
      "             'version': 'v2.0.0'},\n",
      "            {'implementation': 'SKLEARN',\n",
      "             'name': 'beta',\n",
      "             'tags': {'author': 'Bob'},\n",
      "             'task_type': 'classification',\n",
      "             'uri': 'gs://test-model-beta-v3.0.0',\n",
      "             'version': 'v3.0.0'}],\n",
      " 'next_page_token': ''}\n"
     ]
    }
   ],
   "source": [
    "try:\n",
    "    # List Model Metadata entries.\n",
    "    api_response = api_instance.model_metadata_service_list_model_metadata()\n",
    "    pprint(api_response)\n",
    "except ApiException as e:\n",
    "    print(f\"Failed to call API: {json.loads(e.body)['message']}\")"
   ]
  },
  {
   "cell_type": "markdown",
   "metadata": {},
   "source": [
    "## Get all version of a given model (named \"beta\")"
   ]
  },
  {
   "cell_type": "code",
   "execution_count": 9,
   "metadata": {},
   "outputs": [
    {
     "name": "stdout",
     "output_type": "stream",
     "text": [
      "Filter by name=beta\n",
      "{'models': [{'implementation': 'SKLEARN',\n",
      "             'name': 'beta',\n",
      "             'tags': {'author': 'Jon'},\n",
      "             'task_type': 'classification',\n",
      "             'uri': 'gs://test-model-beta-v1.0.0',\n",
      "             'version': 'v1.0.0'},\n",
      "            {'implementation': 'SKLEARN',\n",
      "             'name': 'beta',\n",
      "             'tags': {'author': 'Bob'},\n",
      "             'task_type': 'classification',\n",
      "             'uri': 'gs://test-model-beta-v2.0.0',\n",
      "             'version': 'v2.0.0'},\n",
      "            {'implementation': 'SKLEARN',\n",
      "             'name': 'beta',\n",
      "             'tags': {'author': 'Bob'},\n",
      "             'task_type': 'classification',\n",
      "             'uri': 'gs://test-model-beta-v3.0.0',\n",
      "             'version': 'v3.0.0'}],\n",
      " 'next_page_token': ''}\n"
     ]
    }
   ],
   "source": [
    "# uri = 'uri_example'                       # str |  (optional)\n",
    "# name = 'name_example'                     # str |  (optional)\n",
    "# version = 'version_example'               # str |  (optional)\n",
    "# implementation = 'implementation_example' # str |  (optional)\n",
    "# task_type = 'task_type_example'           # str |  (optional)\n",
    "# model_type = 'model_type_example'         # str |  (optional)\n",
    "\n",
    "try:\n",
    "    # List Model Metadata entries.\n",
    "    api_response = api_instance.model_metadata_service_list_model_metadata(name=\"beta\")\n",
    "    print(\"Filter by name=beta\")\n",
    "    pprint(api_response)\n",
    "except ApiException as e:\n",
    "    print(f\"Failed to call API: {json.loads(e.body)['message']}\")"
   ]
  },
  {
   "cell_type": "markdown",
   "metadata": {},
   "source": [
    "## Modify model metadata entry in the Model Catalogue"
   ]
  },
  {
   "cell_type": "code",
   "execution_count": 10,
   "metadata": {},
   "outputs": [
    {
     "name": "stdout",
     "output_type": "stream",
     "text": [
      "Before update:\n",
      "{'models': [{'implementation': 'XGBOOST',\n",
      "             'name': 'alpha',\n",
      "             'tags': {'an arbitrary tag': 'true',\n",
      "                      'source': 'https://github.com/some-test-model-alpha-repo'},\n",
      "             'task_type': 'regression',\n",
      "             'uri': 'gs://test-model-alpha-v1.0.0',\n",
      "             'version': 'v1.0.0'}],\n",
      " 'next_page_token': ''}\n",
      "{}\n",
      "After update:\n",
      "{'models': [{'implementation': 'XGBOOST',\n",
      "             'name': 'alpha',\n",
      "             'tags': {'an additional tag': '123',\n",
      "                      'an arbitrary tag': 'true',\n",
      "                      'source': 'https://github.com/some-other-repo'},\n",
      "             'task_type': 'regression',\n",
      "             'uri': 'gs://test-model-alpha-v1.0.0',\n",
      "             'version': 'v1.0.0'}],\n",
      " 'next_page_token': ''}\n"
     ]
    }
   ],
   "source": [
    "try:\n",
    "    # Get Model Metadata entries.\n",
    "    api_response = api_instance.model_metadata_service_list_model_metadata(uri=\"gs://test-model-alpha-v1.0.0\")\n",
    "    print(\"Before update:\")\n",
    "    pprint(api_response)\n",
    "except ApiException as e:\n",
    "    print(f\"Failed to call API: {json.loads(e.body)['message']}\")\n",
    "\n",
    "\n",
    "model = V1Model(\n",
    "    uri=\"gs://test-model-alpha-v1.0.0\",\n",
    "    name=\"alpha\",\n",
    "    version=\"v1.0.0\",\n",
    "    implementation=\"XGBOOST\",\n",
    "    task_type=\"regression\",\n",
    "    tags={\n",
    "        \"source\": \"https://github.com/some-other-repo\",\n",
    "        \"an arbitrary tag\": \"true\",\n",
    "        \"an additional tag\": \"123\",\n",
    "    },\n",
    ")\n",
    "\n",
    "try:\n",
    "    # Update a Model Metadata entry.\n",
    "    api_response = api_instance.model_metadata_service_update_model_metadata(model)\n",
    "    pprint(api_response)\n",
    "except ApiException as e:\n",
    "    print(f\"Failed to call API: {json.loads(e.body)['message']}\")\n",
    "    \n",
    "try:\n",
    "    # List Model Metadata entries.\n",
    "    api_response = api_instance.model_metadata_service_list_model_metadata(\n",
    "        uri=\"gs://test-model-alpha-v1.0.0\"\n",
    "    )\n",
    "    print(\"After update:\")\n",
    "    pprint(api_response)\n",
    "except ApiException as e:\n",
    "    print(f\"Failed to call API: {json.loads(e.body)['message']}\")"
   ]
  },
  {
   "cell_type": "markdown",
   "metadata": {},
   "source": [
    "## Get runtime information for a model"
   ]
  },
  {
   "cell_type": "code",
   "execution_count": 11,
   "metadata": {},
   "outputs": [
    {
     "name": "stdout",
     "output_type": "stream",
     "text": [
      "{'next_page_token': '',\n",
      " 'runtime_metadata': [{'deployment_kubernetes_uid': '235bd17d-7c17-4b24-9ab8-a2778413a9ac',\n",
      "                       'deployment_name': 'iris',\n",
      "                       'deployment_namespace': 'kfserving',\n",
      "                       'deployment_status': 'Running',\n",
      "                       'deployment_type': 'InferenceService',\n",
      "                       'model_uri': 'gs://kfserving-samples/models/sklearn/iris',\n",
      "                       'node_name': '',\n",
      "                       'predictor_name': 'sklearn',\n",
      "                       'shadow': False,\n",
      "                       'traffic': '100'},\n",
      "                      {'deployment_kubernetes_uid': '265bd17d-7c17-4b24-9ab8-a2778413a9ac',\n",
      "                       'deployment_name': 'iris-2',\n",
      "                       'deployment_namespace': 'kfserving',\n",
      "                       'deployment_status': 'Running',\n",
      "                       'deployment_type': 'InferenceService',\n",
      "                       'model_uri': 'gs://kfserving-samples/models/sklearn/iris',\n",
      "                       'node_name': '',\n",
      "                       'predictor_name': 'sklearn',\n",
      "                       'shadow': False,\n",
      "                       'traffic': '100'}]}\n"
     ]
    }
   ],
   "source": [
    "try:\n",
    "    # List Runtime Metadata for all deployments associated with a model.\n",
    "    api_response = api_instance.model_metadata_service_list_runtime_metadata_for_model(\n",
    "        model_uri=\"gs://kfserving-samples/models/sklearn/iris\", \n",
    "        deployment_status=\"Running\"\n",
    "    )\n",
    "    pprint(api_response)\n",
    "except ApiException as e:\n",
    "    print(f\"Failed to call API: {json.loads(e.body)['message']}\")"
   ]
  },
  {
   "cell_type": "markdown",
   "metadata": {},
   "source": [
    "## Get model information for a deployment"
   ]
  },
  {
   "cell_type": "code",
   "execution_count": 12,
   "metadata": {},
   "outputs": [
    {
     "name": "stdout",
     "output_type": "stream",
     "text": [
      "{'next_page_token': '',\n",
      " 'runtime_metadata': [{'deployment_kubernetes_uid': '123bd17d-7c17-4b24-9ab8-a2778413a9ac',\n",
      "                       'deployment_name': 'iris',\n",
      "                       'deployment_namespace': 'seldon',\n",
      "                       'deployment_status': 'Running',\n",
      "                       'deployment_type': 'SeldonDeployment',\n",
      "                       'model_uri': 'gs://seldon-models/sklearn/iris',\n",
      "                       'node_name': 'iris',\n",
      "                       'predictor_name': 'default',\n",
      "                       'shadow': False,\n",
      "                       'traffic': '100'},\n",
      "                      {'deployment_kubernetes_uid': '123bd17d-7c17-4b24-9ab8-a2778413a9ac',\n",
      "                       'deployment_name': 'iris',\n",
      "                       'deployment_namespace': 'seldon',\n",
      "                       'deployment_status': 'Running',\n",
      "                       'deployment_type': 'SeldonDeployment',\n",
      "                       'model_uri': 'gs://seldon-models/sklearn/iris2',\n",
      "                       'node_name': 'iris2',\n",
      "                       'predictor_name': 'shadow',\n",
      "                       'shadow': True,\n",
      "                       'traffic': '100'}]}\n"
     ]
    }
   ],
   "source": [
    "try:\n",
    "    # List Runtime Metadata for all deployments associated with a model.\n",
    "    api_response = api_instance.model_metadata_service_list_runtime_metadata_for_model(\n",
    "        deployment_name=\"iris\", \n",
    "        deployment_namespace=\"seldon\"\n",
    "    )\n",
    "    pprint(api_response)\n",
    "except ApiException as e:\n",
    "    print(f\"Failed to call API: {json.loads(e.body)['message']}\")"
   ]
  }
 ],
 "metadata": {
  "kernelspec": {
   "display_name": "Python 3",
   "language": "python",
   "name": "python3"
  },
  "language_info": {
   "codemirror_mode": {
    "name": "ipython",
    "version": 3
   },
   "file_extension": ".py",
   "mimetype": "text/x-python",
   "name": "python",
   "nbconvert_exporter": "python",
   "pygments_lexer": "ipython3",
   "version": "3.8.5"
  }
 },
 "nbformat": 4,
 "nbformat_minor": 4
}
