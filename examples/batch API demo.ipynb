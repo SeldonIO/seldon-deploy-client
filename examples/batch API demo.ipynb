{
 "cells": [
  {
   "cell_type": "markdown",
   "metadata": {},
   "source": [
    "# Batch API Demo"
   ]
  },
  {
   "cell_type": "markdown",
   "metadata": {},
   "source": [
    "This notebook is a complementary material to the [Seldon Deploy Batch demo](https://deploy-master.seldon.io/docs/demos/seldon-core/batch/)."
   ]
  },
  {
   "cell_type": "markdown",
   "metadata": {},
   "source": [
    "## Api Configuration"
   ]
  },
  {
   "cell_type": "code",
   "execution_count": null,
   "metadata": {},
   "outputs": [],
   "source": [
    "from seldon_deploy_client.rest import ApiException\n",
    "\n",
    "from seldon_deploy_client import BatchJobsApi, BatchDefinition, Configuration, ApiClient\n",
    "from seldon_deploy_client.auth import OIDCAuthenticator\n",
    "\n",
    "config = Configuration()\n",
    "config.host = \"http://138.68.119.89/seldon-deploy/api/v1alpha1\"\n",
    "config.oidc_server = \"http://138.68.119.89/auth/realms/deploy-realm\"\n",
    "config.oidc_client_id = \"sd-cli\""
   ]
  },
  {
   "cell_type": "code",
   "execution_count": 2,
   "metadata": {},
   "outputs": [],
   "source": [
    "auth = OIDCAuthenticator(config)\n",
    "api_client = ApiClient(config)\n",
    "config.access_token = auth.authenticate(\"admin@seldon.io\", \"12341234\")"
   ]
  },
  {
   "cell_type": "code",
   "execution_count": 3,
   "metadata": {},
   "outputs": [],
   "source": [
    "api_instance = BatchJobsApi(api_client)"
   ]
  },
  {
   "cell_type": "markdown",
   "metadata": {},
   "source": [
    "## Create a batch job"
   ]
  },
  {
   "cell_type": "code",
   "execution_count": 4,
   "metadata": {},
   "outputs": [],
   "source": [
    "name = 'sklearn' # str | Name identifies a resource\n",
    "namespace = 'seldon' # str | Namespace provides a logical grouping of resources"
   ]
  },
  {
   "cell_type": "code",
   "execution_count": 5,
   "metadata": {},
   "outputs": [
    {
     "name": "stdout",
     "output_type": "stream",
     "text": [
      "{'workflowName': 'sklearn-hpzfw', 'workflowUID': 'c948f050-d907-461d-a1a1-813a6047a98b'}\n"
     ]
    }
   ],
   "source": [
    "workflow = BatchDefinition(\n",
    "    batch_workers=\"10\",\n",
    "    batch_retries=\"3\",\n",
    "    input_data=\"s3://data/input-data.txt\",\n",
    "    output_data=\"s3://data/output-data-{{workflow.name}}.txt\",\n",
    "    object_store_secret_name=\"seldon-job-secret\",\n",
    ")\n",
    "\n",
    "try:\n",
    "    api_response = api_instance.create_seldon_deployment_batch_job(name, namespace, workflow)\n",
    "    print(api_response)\n",
    "except ApiException as e:\n",
    "    print(\"Exception when calling BatchJobsApi->create_seldon_deployment_batch_job: %s\\n\" % e)"
   ]
  },
  {
   "cell_type": "markdown",
   "metadata": {},
   "source": [
    "## Get Batch Job Details"
   ]
  },
  {
   "cell_type": "code",
   "execution_count": 6,
   "metadata": {},
   "outputs": [
    {
     "data": {
      "text/plain": [
       "{'definition': {'batch_data_type': 'data',\n",
       "                'batch_gateway_endpoint': 'sklearn-default.seldon.svc.cluster.local:8000',\n",
       "                'batch_gateway_type': 'seldon',\n",
       "                'batch_method': 'predict',\n",
       "                'batch_payload_type': 'ndarray',\n",
       "                'batch_retries': '3',\n",
       "                'batch_transport_protocol': 'rest',\n",
       "                'batch_workers': '10',\n",
       "                'input_data': 's3://data/input-data.txt',\n",
       "                'object_store_secret_name': 'seldon-job-secret',\n",
       "                'output_data': 's3://data/output-data-{{workflow.name}}.txt',\n",
       "                'pvc_size': '1Gi'},\n",
       " 'description': {'finished_at': None,\n",
       "                 'started_at': '2020-11-25T15:05:05Z',\n",
       "                 'workflow_name': 'sklearn-hpzfw',\n",
       "                 'workflow_status': 'Running',\n",
       "                 'workflow_uid': 'c948f050-d907-461d-a1a1-813a6047a98b'}}"
      ]
     },
     "execution_count": 6,
     "metadata": {},
     "output_type": "execute_result"
    }
   ],
   "source": [
    "api_instance.get_deployment_batch_job(name, namespace, api_response[\"workflowName\"])"
   ]
  },
  {
   "cell_type": "markdown",
   "metadata": {},
   "source": [
    "## List Batch Jobs"
   ]
  },
  {
   "cell_type": "code",
   "execution_count": 7,
   "metadata": {},
   "outputs": [
    {
     "data": {
      "text/plain": [
       "{'batchJobs': [{'workflowName': 'sklearn-hpzfw',\n",
       "   'workflowUID': 'c948f050-d907-461d-a1a1-813a6047a98b',\n",
       "   'workflowStatus': 'Running',\n",
       "   'StartedAt': '2020-11-25T15:05:05Z',\n",
       "   'FinishedAt': None},\n",
       "  {'workflowName': 'sklearn-jczb6',\n",
       "   'workflowUID': '01c1a392-736c-4cf0-9c5d-b4e035b7899a',\n",
       "   'workflowStatus': 'Running',\n",
       "   'StartedAt': '2020-11-25T15:04:09Z',\n",
       "   'FinishedAt': None},\n",
       "  {'workflowName': 'sklearn-mkv4b',\n",
       "   'workflowUID': '3f0c81e6-6ea1-4651-b9ba-beea8d030ff4',\n",
       "   'workflowStatus': 'Succeeded',\n",
       "   'StartedAt': '2020-11-25T14:46:08Z',\n",
       "   'FinishedAt': '2020-11-25T14:47:12Z'},\n",
       "  {'workflowName': 'sklearn-68sbn',\n",
       "   'workflowUID': '1e3c2cd7-c16c-4598-96ae-3575671ff824',\n",
       "   'workflowStatus': 'Succeeded',\n",
       "   'StartedAt': '2020-11-25T14:43:00Z',\n",
       "   'FinishedAt': '2020-11-25T14:44:03Z'},\n",
       "  {'workflowName': 'sklearn-kdp56',\n",
       "   'workflowUID': '7ee7b9c8-b654-4d19-a13a-0859f56dbe09',\n",
       "   'workflowStatus': 'Succeeded',\n",
       "   'StartedAt': '2020-11-25T14:40:43Z',\n",
       "   'FinishedAt': '2020-11-25T14:41:29Z'},\n",
       "  {'workflowName': 'sklearn-j44r6',\n",
       "   'workflowUID': '1bcc2de7-757f-4439-8834-858f600d4663',\n",
       "   'workflowStatus': 'Succeeded',\n",
       "   'StartedAt': '2020-11-25T14:40:40Z',\n",
       "   'FinishedAt': '2020-11-25T14:41:30Z'},\n",
       "  {'workflowName': 'sklearn-hrzzj',\n",
       "   'workflowUID': 'cfa90c7f-f7b9-4b9f-8a27-d22436fc189b',\n",
       "   'workflowStatus': 'Succeeded',\n",
       "   'StartedAt': '2020-11-25T13:48:31Z',\n",
       "   'FinishedAt': '2020-11-25T13:49:32Z'}],\n",
       " 'limit': 10,\n",
       " 'page': 0,\n",
       " 'pagesCount': 1}"
      ]
     },
     "execution_count": 7,
     "metadata": {},
     "output_type": "execute_result"
    }
   ],
   "source": [
    "batch_jobs = api_instance.list_seldon_deployment_batch_jobs(name, namespace, page=0, limit=10)\n",
    "batch_jobs"
   ]
  },
  {
   "cell_type": "code",
   "execution_count": 8,
   "metadata": {},
   "outputs": [
    {
     "data": {
      "text/plain": [
       "{'definition': {'batch_data_type': 'data',\n",
       "                'batch_gateway_endpoint': 'sklearn-default.seldon.svc.cluster.local:8000',\n",
       "                'batch_gateway_type': 'seldon',\n",
       "                'batch_method': 'predict',\n",
       "                'batch_payload_type': 'ndarray',\n",
       "                'batch_retries': '3',\n",
       "                'batch_transport_protocol': 'rest',\n",
       "                'batch_workers': '10',\n",
       "                'input_data': 's3://data/input-data.txt',\n",
       "                'object_store_secret_name': 'seldon-job-secret',\n",
       "                'output_data': 's3://data/output-data-{{workflow.name}}.txt',\n",
       "                'pvc_size': '1Gi'},\n",
       " 'description': {'finished_at': None,\n",
       "                 'started_at': '2020-11-25T15:05:05Z',\n",
       "                 'workflow_name': 'sklearn-hpzfw',\n",
       "                 'workflow_status': 'Running',\n",
       "                 'workflow_uid': 'c948f050-d907-461d-a1a1-813a6047a98b'}}"
      ]
     },
     "execution_count": 8,
     "metadata": {},
     "output_type": "execute_result"
    }
   ],
   "source": [
    "api_instance.get_deployment_batch_job(name, namespace, batch_jobs[\"batchJobs\"][0][\"workflowName\"])"
   ]
  }
 ],
 "metadata": {
  "kernelspec": {
   "display_name": "Python 3",
   "language": "python",
   "name": "python3"
  },
  "language_info": {
   "codemirror_mode": {
    "name": "ipython",
    "version": 3
   },
   "file_extension": ".py",
   "mimetype": "text/x-python",
   "name": "python",
   "nbconvert_exporter": "python",
   "pygments_lexer": "ipython3",
   "version": "3.7.8"
  }
 },
 "nbformat": 4,
 "nbformat_minor": 4
}
